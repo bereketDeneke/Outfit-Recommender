{
  "cells": [
    {
      "cell_type": "code",
      "execution_count": 44,
      "metadata": {
        "id": "Hx3gYvH8mZSe"
      },
      "outputs": [],
      "source": [
        "# Import necessary libraries\n",
        "import requests  # For making API requests\n",
        "import matplotlib.pyplot as plt  # For visualizations\n",
        "from datetime import datetime  # For date and time functions\n",
        "import numpy as np\n",
        "\n",
        "weather_api_key = \"KPwCveD9wOiNBUncND7WsKLVveMBXvHr\""
      ]
    },
    {
      "cell_type": "code",
      "execution_count": 45,
      "metadata": {
        "id": "ANyKQn9ymjud"
      },
      "outputs": [],
      "source": [
        "# Function to get user location using their IP address\n",
        "# It fetches the city, country, latitude, and longitude of the user\n",
        "def get_user_location():\n",
        "    ip_lookup_url = \"https://ipinfo.io/json\"\n",
        "    response = requests.get(ip_lookup_url)\n",
        "    if response.status_code == 200:\n",
        "        data = response.json()\n",
        "        city = data.get('city', 'Unknown')\n",
        "        country = data.get('country', 'Unknown')\n",
        "        loc = data.get('loc', None)  # 'loc' contains latitude and longitude as 'lat,lon'\n",
        "        if loc:\n",
        "            lat, lon = map(float, loc.split(','))\n",
        "            return city, country, lat, lon\n",
        "        else:\n",
        "            return city, country, None, None\n",
        "    else:\n",
        "        return None, None, None, None\n"
      ]
    },
    {
      "cell_type": "code",
      "execution_count": 46,
      "metadata": {
        "id": "LItcGmFOmpEe"
      },
      "outputs": [],
      "source": [
        "# Function to fetch weather data using Tomorrow.io API\n",
        "# It retrieves temperature, wind speed, humidity, and precipitation data\n",
        "def get_weather_data(lat, lon):\n",
        "    weather_url = f\"https://api.tomorrow.io/v4/timelines?location={lat},{lon}&fields=temperature,precipitationType,windSpeed,humidity&timesteps=1h&units=metric&apikey={weather_api_key}\"\n",
        "    response = requests.get(weather_url)\n",
        "\n",
        "    if response.status_code == 200:\n",
        "        data = response.json()\n",
        "        intervals = data['data']['timelines'][0]['intervals']\n",
        "        temperatures = [interval['values']['temperature'] for interval in intervals]\n",
        "        humidity = [interval['values']['humidity'] for interval in intervals]\n",
        "        wind_speed = [interval['values']['windSpeed'] for interval in intervals]\n",
        "        precipitation = intervals[0].get('values').get('precipitationType', None)\n",
        "        return temperatures, wind_speed, humidity, precipitation, intervals\n",
        "    else:\n",
        "        return None, None, None, None, None"
      ]
    },
    {
      "cell_type": "code",
      "execution_count": 47,
      "metadata": {
        "id": "_QPUg5zjmxKD"
      },
      "outputs": [],
      "source": [
        "# Function to recommend an outfit based on weather conditions\n",
        "# Uses emojis for visual representation of weather-related recommendations\n",
        "def recommend_outfit(temperature, wind_speed, humidity, precipitation):\n",
        "    # Using emojis for different weather conditions\n",
        "    if precipitation == 1:  # Assuming 1 is rain in Tomorrow.io API\n",
        "        outfit = \"☔ It looks like it might rain today. A waterproof jacket or umbrella will keep you dry. Don't forget waterproof shoes!\"\n",
        "    elif temperature < 10:\n",
        "        outfit = f\"❄ It's chilly today at {temperature}°C. Layer up with a cozy sweater, a warm coat, and scarf. The wind speed is {wind_speed} km/h, so a windbreaker is also a good idea.\"\n",
        "    elif 10 <= temperature < 20:\n",
        "        if wind_speed > 20:\n",
        "            outfit = f\"🌬 It's a cool day at {temperature}°C, with high wind speeds of {wind_speed} km/h. A light jacket and windbreaker are perfect to keep you warm.\"\n",
        "        else:\n",
        "            outfit = f\"🍂 The average temperature is {temperature}°C, and it's mildly windy at {wind_speed} km/h. A comfortable outfit with jeans and a jacket will be great.\"\n",
        "    elif 20 <= temperature < 30:\n",
        "        if humidity > 70:\n",
        "            outfit = f\"🌞 It's warm today at {temperature}°C, with humidity levels at {humidity}%. Opt for breathable fabrics like cotton to stay cool.\"\n",
        "        else:\n",
        "            outfit = f\"☀ The average temperature is {temperature}°C, with moderate wind. A t-shirt, shorts, and sunglasses will keep you comfortable throughout the day.\"\n",
        "    else:\n",
        "        if humidity > 70:\n",
        "            outfit = f\"🔥 It's hot and humid today at {temperature}°C and humidity at {humidity}%. Stay cool with light, breathable fabrics and keep hydrated!\"\n",
        "        else:\n",
        "            outfit = f\"☀ It's hot today at {temperature}°C. Light clothing like cotton or linen will keep you cool. Don't forget your sunglasses and a hat.\"\n",
        "    return outfit\n",
        "\n",
        "# Function to display weather and outfit recommendation in markdown format\n",
        "def display_weather_based_recommendation(city, country, temperature, wind_speed, humidity, precipitation)->str:\n",
        "    # Display the weather details\n",
        "    weather_details = f\"\"\"## Current Weather Details in {city}, {country}:\\n- 🌡 **Temperature:** {temperature}°C\n",
        "    - 🌬 **Wind Speed:** {wind_speed} km/h\n",
        "    - 💧 **Humidity:** {humidity}%\n",
        "    - 💧 **Precipitation:** {precipitation} mm\n",
        "    \"\"\"\n",
        "    # Display the outfit recommendation\n",
        "    outfit_recommendation = recommend_outfit(temperature, wind_speed, humidity, precipitation)\n",
        "    \n",
        "    outfit_details = f\"\"\"## Recommended Outfit:\n",
        "    {outfit_recommendation}\n",
        "    \"\"\"\n",
        "    \n",
        "    # Final message\n",
        "    final_message = \"\"\"### Have a great day! \n",
        "    No matter what the weather is like, being prepared with the right clothing will help you enjoy it to the fullest.\n",
        "    \"\"\"\n",
        "    \n",
        "    # Printing the markdown output\n",
        "    return f\"{weather_details}\\n\\n{outfit_details}\\n\\n{final_message}\"\n"
      ]
    },
    {
      "cell_type": "code",
      "execution_count": 48,
      "metadata": {
        "colab": {
          "base_uri": "https://localhost:8080/",
          "height": 277
        },
        "id": "6cDciaedm1JV",
        "outputId": "ae7c6d75-42a8-4c5a-ceef-04d6dd5efe81"
      },
      "outputs": [
        {
          "data": {
            "text/markdown": [
              "## Current Weather Details in New York City, US:\n",
              "- 🌡 **Temperature:** 21.0°C\n",
              "    - 🌬 **Wind Speed:** 2.0 km/h\n",
              "    - 💧 **Humidity:** 67.0%\n",
              "    - 💧 **Precipitation:** 0 mm\n",
              "    \n",
              "\n",
              "## Recommended Outfit:\n",
              "    ☀ The average temperature is 21.0°C, with moderate wind. A t-shirt, shorts, and sunglasses will keep you comfortable throughout the day.\n",
              "    \n",
              "\n",
              "### Have a great day! \n",
              "    No matter what the weather is like, being prepared with the right clothing will help you enjoy it to the fullest.\n",
              "    "
            ],
            "text/plain": [
              "<IPython.core.display.Markdown object>"
            ]
          },
          "execution_count": 48,
          "metadata": {},
          "output_type": "execute_result"
        }
      ],
      "source": [
        "# Import markdown display function\n",
        "from IPython.display import Markdown\n",
        "# Get user location\n",
        "city, country, lat, lon = get_user_location()\n",
        "\n",
        "# Get weather data based on location\n",
        "if lat is not None and lon is not None:\n",
        "    temperatures, wind_speed, humidity, precipitation, intervals = get_weather_data(lat, lon)\n",
        "\n",
        "# Function to calculate the mean for each weather element\n",
        "mean = lambda x: sum(x) // len(x)\n",
        "\n",
        "# Display the weather-based recommendation using markdown\n",
        "markdown_output = display_weather_based_recommendation(city, country, mean(temperatures), mean(wind_speed), mean(humidity), precipitation)\n",
        "Markdown(markdown_output)"
      ]
    }
  ],
  "metadata": {
    "colab": {
      "provenance": []
    },
    "kernelspec": {
      "display_name": "Python 3",
      "name": "python3"
    },
    "language_info": {
      "codemirror_mode": {
        "name": "ipython",
        "version": 3
      },
      "file_extension": ".py",
      "mimetype": "text/x-python",
      "name": "python",
      "nbconvert_exporter": "python",
      "pygments_lexer": "ipython3",
      "version": "3.10.12"
    }
  },
  "nbformat": 4,
  "nbformat_minor": 0
}
